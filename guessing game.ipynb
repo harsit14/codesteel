{
 "cells": [
  {
   "cell_type": "code",
   "execution_count": 1,
   "metadata": {},
   "outputs": [
    {
     "name": "stdout",
     "output_type": "stream",
     "text": [
      "guess a two digit number which is multiple of 5 : 45\n",
      "congrations! you won. :-)\n"
     ]
    }
   ],
   "source": [
    "# guessing game\n",
    "secret_number = 45\n",
    "guess_count = 0\n",
    "guess_limit = 3\n",
    "while guess_count < guess_limit:\n",
    "    guess = int(input('guess a two digit number which is multiple of 5 : '))\n",
    "    guess_count += 1\n",
    "    if guess == secret_number:\n",
    "        print('congrations! you won. :-)')\n",
    "        break\n",
    "else:\n",
    "    print('sorry! try again. :-(')"
   ]
  },
  {
   "cell_type": "code",
   "execution_count": null,
   "metadata": {},
   "outputs": [],
   "source": []
  }
 ],
 "metadata": {
  "kernelspec": {
   "display_name": "Python 3",
   "language": "python",
   "name": "python3"
  },
  "language_info": {
   "codemirror_mode": {
    "name": "ipython",
    "version": 3
   },
   "file_extension": ".py",
   "mimetype": "text/x-python",
   "name": "python",
   "nbconvert_exporter": "python",
   "pygments_lexer": "ipython3",
   "version": "3.7.3"
  }
 },
 "nbformat": 4,
 "nbformat_minor": 2
}
